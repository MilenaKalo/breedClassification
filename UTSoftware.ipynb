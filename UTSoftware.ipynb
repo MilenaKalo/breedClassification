{
  "nbformat": 4,
  "nbformat_minor": 0,
  "metadata": {
    "colab": {
      "provenance": [],
      "include_colab_link": true
    },
    "kernelspec": {
      "name": "python3",
      "display_name": "Python 3"
    },
    "language_info": {
      "name": "python"
    },
    "accelerator": "GPU",
    "gpuClass": "standard"
  },
  "cells": [
    {
      "cell_type": "markdown",
      "metadata": {
        "id": "view-in-github",
        "colab_type": "text"
      },
      "source": [
        "<a href=\"https://colab.research.google.com/github/MilenaKalo/breedClassification/blob/main/UTSoftware.ipynb\" target=\"_parent\"><img src=\"https://colab.research.google.com/assets/colab-badge.svg\" alt=\"Open In Colab\"/></a>"
      ]
    },
    {
      "cell_type": "markdown",
      "source": [
        "https://medium.com/hackerdawn/fruit-image-classification-using-cnn-on-google-colab-4fe7274418a5"
      ],
      "metadata": {
        "id": "gbkEiFYj9kC7"
      }
    },
    {
      "cell_type": "markdown",
      "source": [
        "# Imports"
      ],
      "metadata": {
        "id": "nStQen86m5Bx"
      }
    },
    {
      "cell_type": "code",
      "execution_count": 1,
      "metadata": {
        "id": "pUTtxaKwvj6J"
      },
      "outputs": [],
      "source": [
        "#Import\n",
        "# wenn libary nicht vorhanden, dann open example öffnen und die commands ausführen lassen \n",
        "\n",
        "import csv\n",
        "import os\n",
        "from collections import Counter\n",
        "import numpy as np\n",
        "import pandas as pd\n",
        "import matplotlib.pyplot as plt\n",
        "from keras.models import Sequential\n",
        "from keras.layers import Conv2D, MaxPooling2D, Activation, Dropout, Flatten, Dense\n",
        "from keras_preprocessing.image import ImageDataGenerator, img_to_array, load_img\n",
        "from PIL import Image\n",
        "from glob import glob\n",
        "from google.colab import drive\n",
        "import shutil\n"
      ]
    },
    {
      "cell_type": "markdown",
      "source": [],
      "metadata": {
        "id": "J-IA8Y_snCiB"
      }
    },
    {
      "cell_type": "markdown",
      "source": [
        "# drive mounting "
      ],
      "metadata": {
        "id": "zr1V4V50nC9A"
      }
    },
    {
      "cell_type": "code",
      "source": [
        "#Mounting the drive\n",
        "drive.mount('/content/gdrive')\n"
      ],
      "metadata": {
        "colab": {
          "base_uri": "https://localhost:8080/"
        },
        "id": "qOA2JuGIcTU7",
        "outputId": "6cc50099-ad68-4a84-be65-a215e7f9f6ed"
      },
      "execution_count": 2,
      "outputs": [
        {
          "output_type": "stream",
          "name": "stdout",
          "text": [
            "Mounted at /content/gdrive\n"
          ]
        }
      ]
    },
    {
      "cell_type": "code",
      "source": [
        "#change cd to the right path \n",
        "%cd /content/gdrive"
      ],
      "metadata": {
        "colab": {
          "base_uri": "https://localhost:8080/"
        },
        "id": "M8ctKV6Zew4T",
        "outputId": "d4ba8e16-2f87-42b3-83c3-5316fdab120a"
      },
      "execution_count": 8,
      "outputs": [
        {
          "output_type": "stream",
          "name": "stdout",
          "text": [
            "/content/gdrive\n"
          ]
        }
      ]
    },
    {
      "cell_type": "code",
      "source": [
        "#Printing all file names under the input directory\n",
        "for dirname, _, filenames in os.walk('./MyDrive/Colab Notebooks/Dataset 1/low-resolution'):\n",
        "    for filename in filenames:\n",
        "        print(os.path.join(dirname, filename))"
      ],
      "metadata": {
        "id": "PnLk4wMoeOGM"
      },
      "execution_count": null,
      "outputs": []
    },
    {
      "cell_type": "markdown",
      "source": [
        "# erstelle Train Ordner "
      ],
      "metadata": {
        "id": "EX6VdQonHGDF"
      }
    },
    {
      "cell_type": "code",
      "source": [
        "# Ordner für Trainingsdaten erstellen\n",
        "%cd /content/gdrive/MyDrive/Colab\\ Notebooks\n",
        "\n",
        "train_directory = \"train\"\n",
        "os.mkdir(train_directory)\n",
        "train_data = pd.read_csv(\"/content/gdrive/MyDrive/Colab Notebooks/train.csv\")\n",
        "folder_names_train = train_data[\"breed\"].unique()\n",
        "for folder_name in folder_names_train:\n",
        "     os.mkdir(\"train/\" + folder_name)\n",
        "filename_train = '\"/content/gdrive/MyDrive/Colab Notebooks/train.csv\"'\n",
        "with open(filename_train, 'r') as csvfile:\n",
        "     datareader = csv.reader(csvfile)\n",
        "     next(datareader)\n",
        "     for row in datareader:\n",
        "         # Falls Pfad \"root\" enthält, dann löschen\n",
        "         if \"root\" in row[0]:\n",
        "             row[0] = row[0].replace(\"/root\", \"\")\n",
        "         file = row[0] + \"/\" + row[1]\n",
        "         original = r'/content/gdrive/MyDrive/Colab Notebooks/'+file\n",
        "         target = r'/content/gdrive/MyDrive/Colab Notebooks/train/'+row[2]+'/'+row[1]\n",
        "         shutil.copy(original, target)\n"
      ],
      "metadata": {
        "id": "psslYS6EHOeB"
      },
      "execution_count": null,
      "outputs": []
    },
    {
      "cell_type": "markdown",
      "source": [
        "# erstelle Validate Ordner "
      ],
      "metadata": {
        "id": "UxlnQrVHHosm"
      }
    },
    {
      "cell_type": "code",
      "source": [
        "#Ordner für Validierungsdaten erstellen\n",
        "%cd /content/gdrive/MyDrive/Colab\\ Notebooks\n",
        "\n",
        "validate_directory = \"validate\"\n",
        "os.mkdir(validate_directory)\n",
        "\n",
        "validate_data = pd.read_csv(\"/content/gdrive/MyDrive/Colab Notebooks/validate.csv\")\n",
        "folder_names_validate = validate_data[\"breed\"].unique()\n",
        "\n",
        "for folder_name in folder_names_validate:\n",
        "     os.mkdir(\"validate/\" + folder_name)\n",
        "\n",
        "filename_validate = '/content/gdrive/MyDrive/Colab Notebooks/validate.csv'\n",
        "with open(filename_validate, 'r') as csvfile:\n",
        "     datareader = csv.reader(csvfile)\n",
        "     next(datareader)\n",
        "\n",
        "     for row in datareader:\n",
        "         # Falls Pfad \"root\" enthält, dann löschen\n",
        "         if \"root\" in row[0]:\n",
        "             row[0] = row[0].replace(\"/root\", \"\")\n",
        "\n",
        "         file = row[0] + \"/\" + row[1]\n",
        "         original = r'/content/gdrive/MyDrive/Colab Notebooks/'+file\n",
        "         target = r'/content/gdrive/MyDrive/Colab Notebooks/validate/'+row[2]+'/'+row[1]\n",
        "         shutil.copy(original, target)"
      ],
      "metadata": {
        "id": "-hK6KsulHueB"
      },
      "execution_count": null,
      "outputs": []
    },
    {
      "cell_type": "markdown",
      "source": [
        "# erstelle Test Ordner"
      ],
      "metadata": {
        "id": "yt8OhPBwHzLY"
      }
    },
    {
      "cell_type": "code",
      "source": [
        "# Ordner für Testdaten erstellen\n",
        "%cd /content/gdrive/MyDrive/Colab\\ Notebooks\n",
        "\n",
        "test_directory = \"test\"\n",
        "os.mkdir(test_directory)\n",
        "\n",
        "test_data = pd.read_csv(\"/content/gdrive/MyDrive/Colab Notebooks/test.csv\")\n",
        "folder_names_test = test_data[\"breed\"].unique()\n",
        "\n",
        "for folder_name in folder_names_test:\n",
        "     os.mkdir(\"test/\" + folder_name)\n",
        "\n",
        "filename_test = '/content/gdrive/MyDrive/Colab Notebooks/test.csv'\n",
        "with open(filename_test, 'r') as csvfile:\n",
        "     datareader = csv.reader(csvfile)\n",
        "     next(datareader)\n",
        "\n",
        "     for row in datareader:\n",
        "         # Falls Pfad \"root\" enthält, dann löschen\n",
        "         if \"root\" in row[0]:\n",
        "             row[0] = row[0].replace(\"/root\", \"\")\n",
        "\n",
        "         file = row[0] + \"/\" + row[1]\n",
        "         original = r'/content/gdrive/MyDrive/Colab Notebooks/'+file\n",
        "         target = r'/content/gdrive/MyDrive/Colab Notebooks/test/'+row[2]+'/'+row[1]\n",
        "         shutil.copy(original, target)\n",
        "         "
      ],
      "metadata": {
        "id": "ekNp-hM3H56L"
      },
      "execution_count": null,
      "outputs": []
    },
    {
      "cell_type": "markdown",
      "source": [
        "# looking how a image look like "
      ],
      "metadata": {
        "id": "uX4GAPn6nSIZ"
      }
    },
    {
      "cell_type": "code",
      "source": [
        "dataframe = pd.read_csv(\"/content/gdrive/MyDrive/Colab Notebooks/train.csv\", nrows=1)  \n",
        "print(dataframe)\n",
        "\n",
        "#data row one passt noch nict ganz \n",
        "data_row_one =str(\"/content/gdrive/MyDrive/Colab Notebooks/\"+ dataframe[\"path\"] +\"/\"+ dataframe[\"id\"])\n",
        "print(data_row_one)\n",
        "print(type(data_row_one))\n",
        "data_row_two = dataframe[\"path\"]\n",
        "print(data_row_two)\n",
        "test = dataframe[\"id\"]\n",
        "#print(test)"
      ],
      "metadata": {
        "id": "88VA6DEQh0lg",
        "colab": {
          "base_uri": "https://localhost:8080/"
        },
        "outputId": "22ac0002-c4d5-4d73-c4f2-d72e24b8d612"
      },
      "execution_count": 9,
      "outputs": [
        {
          "output_type": "stream",
          "name": "stdout",
          "text": [
            "                                              path           id       breed\n",
            "0  Dataset_1/low-resolution/201-n000024-schipperke  n110423.jpg  schipperke\n",
            "0    /content/gdrive/MyDrive/Colab Notebooks/Datase...\n",
            "dtype: object\n",
            "<class 'str'>\n",
            "0    Dataset_1/low-resolution/201-n000024-schipperke\n",
            "Name: path, dtype: object\n"
          ]
        }
      ]
    },
    {
      "cell_type": "code",
      "source": [
        "#Displaying the image\n",
        "img = load_img(\"/content/gdrive/MyDrive/Colab Notebooks/Dataset_1/low-resolution/201-n000024-schipperke/n110347.jpg\", target_size=(100,100))\n",
        "plt.imshow(img)\n",
        "plt.axis(\"off\")\n",
        "plt.show()\n"
      ],
      "metadata": {
        "colab": {
          "base_uri": "https://localhost:8080/",
          "height": 248
        },
        "id": "DEVJ5JHH35_U",
        "outputId": "380d2e79-ab01-4f96-b92b-e4840be80a9c"
      },
      "execution_count": null,
      "outputs": [
        {
          "output_type": "display_data",
          "data": {
            "text/plain": [
              "<Figure size 432x288 with 1 Axes>"
            ],
            "image/png": "[encoded data removed]"
          },
          "metadata": {
            "needs_background": "light"
          }
        }
      ]
    },
    {
      "cell_type": "code",
      "source": [
        "#Printing the shape of the image array \n",
        "x = img_to_array(img)\n",
        "print(x.shape)"
      ],
      "metadata": {
        "colab": {
          "base_uri": "https://localhost:8080/"
        },
        "id": "2nM2Go7E8obx",
        "outputId": "a1ab1895-bcf4-403b-e200-068bad69c701"
      },
      "execution_count": null,
      "outputs": [
        {
          "output_type": "stream",
          "name": "stdout",
          "text": [
            "(100, 100, 3)\n"
          ]
        }
      ]
    },
    {
      "cell_type": "markdown",
      "source": [
        "# Modell erstellen "
      ],
      "metadata": {
        "id": "ty5YNxpnP8G_"
      }
    },
    {
      "cell_type": "code",
      "source": [
        "#Finding number of classes\n",
        "train_data = pd.read_csv(\"/content/gdrive/MyDrive/Colab Notebooks/train.csv\")\n",
        "\n",
        "className = train_data[\"breed\"].unique()\n",
        "number_of_class = len(className)\n",
        "print(number_of_class)"
      ],
      "metadata": {
        "colab": {
          "base_uri": "https://localhost:8080/"
        },
        "id": "Vp-X9zIinaJd",
        "outputId": "b349d861-5fde-4b42-a6f8-a194ae718bae"
      },
      "execution_count": null,
      "outputs": [
        {
          "output_type": "stream",
          "name": "stdout",
          "text": [
            "142\n"
          ]
        }
      ]
    },
    {
      "cell_type": "code",
      "source": [
        "#Creating the model\n",
        "model = Sequential()\n",
        "model.add(Conv2D(32,(3,3),input_shape = x.shape))\n",
        "model.add(Activation(\"relu\"))\n",
        "model.add(MaxPooling2D())\n",
        "model.add(Conv2D(32,(3,3)))\n",
        "model.add(Activation(\"relu\"))\n",
        "model.add(MaxPooling2D())\n",
        "model.add(Conv2D(64,(3,3)))\n",
        "model.add(Activation(\"relu\"))\n",
        "model.add(MaxPooling2D())\n",
        "model.add(Flatten())\n",
        "model.add(Dense(1024))\n",
        "model.add(Activation(\"relu\"))\n",
        "model.add(Dropout(0.5))\n",
        "model.add(Dense(number_of_class)) \n",
        "model.add(Activation(\"softmax\"))\n",
        "\n",
        "#Compiling the model\n",
        "model.compile(loss = \"categorical_crossentropy\",\n",
        "optimizer = \"rmsprop\",\n",
        "metrics = [\"accuracy\"])\n",
        "\n",
        "#Getting model's summary\n",
        "model.summary()"
      ],
      "metadata": {
        "id": "Qf7sXUVQmmdv",
        "colab": {
          "base_uri": "https://localhost:8080/"
        },
        "outputId": "1785fb85-b2d4-4fdf-a663-b62227ed74b2"
      },
      "execution_count": null,
      "outputs": [
        {
          "output_type": "stream",
          "name": "stdout",
          "text": [
            "Model: \"sequential_2\"\n",
            "_________________________________________________________________\n",
            " Layer (type)                Output Shape              Param #   \n",
            "=================================================================\n",
            " conv2d_6 (Conv2D)           (None, 98, 98, 32)        896       \n",
            "                                                                 \n",
            " activation_9 (Activation)   (None, 98, 98, 32)        0         \n",
            "                                                                 \n",
            " max_pooling2d_6 (MaxPooling  (None, 49, 49, 32)       0         \n",
            " 2D)                                                             \n",
            "                                                                 \n",
            " conv2d_7 (Conv2D)           (None, 47, 47, 32)        9248      \n",
            "                                                                 \n",
            " activation_10 (Activation)  (None, 47, 47, 32)        0         \n",
            "                                                                 \n",
            " max_pooling2d_7 (MaxPooling  (None, 23, 23, 32)       0         \n",
            " 2D)                                                             \n",
            "                                                                 \n",
            " conv2d_8 (Conv2D)           (None, 21, 21, 64)        18496     \n",
            "                                                                 \n",
            " activation_11 (Activation)  (None, 21, 21, 64)        0         \n",
            "                                                                 \n",
            " max_pooling2d_8 (MaxPooling  (None, 10, 10, 64)       0         \n",
            " 2D)                                                             \n",
            "                                                                 \n",
            " flatten_2 (Flatten)         (None, 6400)              0         \n",
            "                                                                 \n",
            " dense_3 (Dense)             (None, 1024)              6554624   \n",
            "                                                                 \n",
            " activation_12 (Activation)  (None, 1024)              0         \n",
            "                                                                 \n",
            " dropout_2 (Dropout)         (None, 1024)              0         \n",
            "                                                                 \n",
            " dense_4 (Dense)             (None, 142)               145550    \n",
            "                                                                 \n",
            " activation_13 (Activation)  (None, 142)               0         \n",
            "                                                                 \n",
            "=================================================================\n",
            "Total params: 6,728,814\n",
            "Trainable params: 6,728,814\n",
            "Non-trainable params: 0\n",
            "_________________________________________________________________\n"
          ]
        }
      ]
    },
    {
      "cell_type": "code",
      "source": [
        "#Specifing epochs & batch size\n",
        "epochs = 100\n",
        "batch_size = 64"
      ],
      "metadata": {
        "id": "lF5lwc2kpXHw"
      },
      "execution_count": null,
      "outputs": []
    },
    {
      "cell_type": "code",
      "source": [
        "train_path = \"/content/gdrive/MyDrive/Colab Notebooks/test\"\n",
        "\n",
        "validate_path = \"/content/gdrive/MyDrive/Colab Notebooks/validate\"\n",
        "\n",
        "#Creating an object of ImageDataGenerator.\n",
        "train_datagen = ImageDataGenerator(rescale= 1./255,\n",
        "shear_range = 0.3,\n",
        "horizontal_flip=True,\n",
        "zoom_range = 0.3)\n",
        "test_datagen = ImageDataGenerator(rescale= 1./255)\n",
        "\n",
        "#Generating batches of Augmented data.\n",
        "train_generator = train_datagen.flow_from_directory(\n",
        "directory = train_path,\n",
        "target_size= x.shape[:2],\n",
        "batch_size = batch_size,\n",
        "color_mode= \"rgb\",\n",
        "class_mode= \"categorical\")\n",
        "\n",
        "test_generator = test_datagen.flow_from_directory(\n",
        "directory = validate_path,\n",
        "target_size= x.shape[:2],\n",
        "batch_size = batch_size,\n",
        "color_mode= \"rgb\",\n",
        "class_mode= \"categorical\")"
      ],
      "metadata": {
        "id": "xnLIftV1p395"
      },
      "execution_count": null,
      "outputs": []
    },
    {
      "cell_type": "code",
      "source": [
        "#Fitting the model\n",
        "hist = model.fit_generator(\n",
        "generator = train_generator,\n",
        "steps_per_epoch = 1600 // batch_size,\n",
        "epochs=epochs,\n",
        "validation_data = test_generator,\n",
        "validation_steps = 800 // batch_size)"
      ],
      "metadata": {
        "id": "MH_MNeJwOeOH"
      },
      "execution_count": null,
      "outputs": []
    },
    {
      "cell_type": "markdown",
      "source": [
        "# Plotten"
      ],
      "metadata": {
        "id": "1fRfhVTnQJQ-"
      }
    },
    {
      "cell_type": "code",
      "source": [
        "#Plotting train & validation loss\n",
        "plt.figure()\n",
        "plt.plot(hist.history[\"loss\"],label = \"Train Loss\", color = \"black\")\n",
        "plt.plot(hist.history[\"val_loss\"],label = \"Validation Loss\", color = \"mediumvioletred\", linestyle=\"dashed\",markeredgecolor = \"purple\", markeredgewidth = 2)\n",
        "plt.title(\"Model Loss\", color = \"darkred\", size = 13)\n",
        "plt.legend()\n",
        "plt.show()"
      ],
      "metadata": {
        "id": "JImaCKK_Ok_B"
      },
      "execution_count": null,
      "outputs": []
    },
    {
      "cell_type": "code",
      "source": [
        "#Plotting train & validation accuracy\n",
        "plt.figure()\n",
        "plt.plot(hist.history[\"accuracy\"],label = \"Train Accuracy\", color = \"black\")\n",
        "plt.plot(hist.history[\"val_accuracy\"],label = \"Validation Accuracy\", color = \"mediumvioletred\", linestyle=\"dashed\",markeredgecolor = \"purple\", markeredgewidth = 2)\n",
        "plt.title(\"Model Accuracy\", color = \"darkred\", size = 13)\n",
        "plt.legend()\n",
        "plt.show()"
      ],
      "metadata": {
        "id": "CLyVvfFEOm5T"
      },
      "execution_count": null,
      "outputs": []
    },
    {
      "cell_type": "markdown",
      "source": [
        "# Prediction"
      ],
      "metadata": {
        "id": "TYP3lWOWQNkU"
      }
    },
    {
      "cell_type": "code",
      "source": [
        "#Displaying the selected image\n",
        "img = load_img(validate_path + \"/schipperke/n110509.jpg\", target_size=(100,100))\n",
        "plt.imshow(img)\n",
        "plt.axis(\"off\")\n",
        "plt.show()\n",
        "#Loading the image \n",
        "def load(filename):\n",
        "    np_image = Image.open(filename)\n",
        "    np_image = np.array(np_image).astype('float32')/255\n",
        "    np_image = np.expand_dims(np_image, axis=0)\n",
        "    return np_image\n",
        "image = load('/content/gdrive/MyDrive/Colab Notebooks/validate/schipperke/n110509.jpg')"
      ],
      "metadata": {
        "id": "UylbU9IiOtVq"
      },
      "execution_count": null,
      "outputs": []
    },
    {
      "cell_type": "code",
      "source": [
        "#Predicting the class\n",
        "prediction = (np.argmax(model.predict(image), axis=-1))\n",
        "print(prediction)"
      ],
      "metadata": {
        "id": "DG8AMUYmPkxV"
      },
      "execution_count": null,
      "outputs": []
    },
    {
      "cell_type": "code",
      "source": [
        "#Printing class dictionary\n",
        "print(test_generator.class_indices)"
      ],
      "metadata": {
        "id": "s60DAdMMPqEw"
      },
      "execution_count": null,
      "outputs": []
    }
  ]
}